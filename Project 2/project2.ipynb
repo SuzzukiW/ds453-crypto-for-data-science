{
  "cells": [
    {
      "cell_type": "markdown",
      "metadata": {
        "id": "gUtCzPPdoye3"
      },
      "source": [
        "# DS 453 / 653 Spring 2024: Project 2\n",
        "\n",
        "---\n",
        "\n",
        "_You must follow the Academic Code of Conduct and Collaboration Policy stated in the course syllabus at all times while working on this project._\n",
        "\n",
        "This Jupyter notebook file explains the tasks that you must complete for Project 2. You must submit your final project on [Gradescope](https://www.gradescope.com/courses/497424). You have two opportunities to submit the project:\n",
        "\n",
        "- The first submission date is Thursday, April 25. We will review your work and tell you whether you have passed, or otherwise what is needed to pass the project.\n",
        "- The second submission date is Wednesday, May 1 at 8pm. You must complete the entire project by this time.\n",
        "\n",
        "This project is worth 5 points, and you must receive at least 4 points to pass the project."
      ]
    },
    {
      "cell_type": "code",
      "execution_count": 5,
      "metadata": {},
      "outputs": [],
      "source": [
        "import numpy as np\n",
        "from sklearn.datasets import load_iris\n",
        "import hashlib\n",
        "import random\n",
        "import string"
      ]
    },
    {
      "cell_type": "markdown",
      "metadata": {
        "id": "jy3t5IASHn2b"
      },
      "source": [
        "## Project Overview\n",
        "\n",
        "The goal of this project is to construct a zero knowledge proof for a data science application. Specifically, we will look at a small-scale dataset and prove its linear regression.\n",
        "\n",
        "(It is highly recommended that you complete Programming Assignment 9 before attempting this project, as we will continue to use the Circom language for zero knowledge proofs that was introduced in PA9 Task 2.)"
      ]
    },
    {
      "cell_type": "markdown",
      "metadata": {
        "id": "sk9O1X_mnWYJ"
      },
      "source": [
        "### Dataset\n",
        "\n",
        "In this project, we will use the famous Iris dataset. You can retrieve this dataset from the `sklearn` package using the code below. A few comments about the dataset and the parts that we will use in this project.\n",
        "\n",
        "- The iris dataset contains 150 rows of data that measures 4 attributes about each iris. In this project, we will only consider the final two attributes: the petal length and petal width of each iris. Additionally, we will only look at a subset of 40 rows of the data that correspond to the iris versicolor species.\n",
        "\n",
        "- The iris dataset in `sklearn` contains measurements in centimeters with one significant digit after the decimal point. Since it happens to be easier to work with integers in a cryptography project, let's multiply the petal widths by 10 (so the unit is now millimeters) and the petal lengths by 100 (so the unit is now multiples of $10^{-4}$ meters).\n",
        "\n",
        "Below, I show a plot the data and its simple linear regression. In this project, let's treat the petal width as the independent variable, and petal length as the dependent variable. It turns out that the best-fit line is $y = 134 + 5x$."
      ]
    },
    {
      "cell_type": "code",
      "execution_count": 16,
      "metadata": {
        "colab": {
          "base_uri": "https://localhost:8080/",
          "height": 536
        },
        "id": "ZXARlhL6nhJ2",
        "outputId": "22c1ad41-15c5-4a3e-aaab-a3f68cbd468e"
      },
      "outputs": [
        {
          "name": "stdout",
          "output_type": "stream",
          "text": [
            "x: [2. 1. 2. 2. 1. 1. 2. 4. 4. 3. 3. 3. 2. 4. 2. 5. 2. 2. 4. 2. 2. 2. 2. 4.\n",
            " 1. 2. 2. 2. 2. 1. 2. 2. 3. 3. 2. 6. 4. 3. 2. 2.]\n",
            "y: [140. 150. 150. 160. 140. 110. 120. 150. 130. 140. 170. 150. 170. 150.\n",
            " 100. 170. 190. 160. 160. 150. 140. 160. 160. 150. 150. 140. 150. 120.\n",
            " 130. 140. 130. 150. 130. 130. 130. 160. 190. 140. 160. 140.]\n"
          ]
        },
        {
          "data": {
            "image/png": "[encoded data removed]",
            "text/plain": [
              "<Figure size 640x480 with 1 Axes>"
            ]
          },
          "metadata": {},
          "output_type": "display_data"
        }
      ],
      "source": [
        "import numpy as np\n",
        "from sklearn.datasets import load_iris\n",
        "import matplotlib.pyplot as plt\n",
        "\n",
        "# create an array containing the iris data\n",
        "iris    = load_iris()\n",
        "dataset = iris.data\n",
        "\n",
        "# restricting to 40 rows of data and only two features\n",
        "x_var = dataset[8:48,3] * 10  # petal width, in millimeters\n",
        "y_var = dataset[8:48,2] * 100 # petal length, in units of 10^-4 meters\n",
        "\n",
        "# print the data\n",
        "print(\"x:\", x_var)\n",
        "print(\"y:\", y_var)\n",
        "\n",
        "# plot of the data\n",
        "plt.scatter(x_var, y_var)\n",
        "plt.xlabel(\"petal width (mm)\")\n",
        "plt.ylabel(\"petal length (10^-4 m)\");\n",
        "\n",
        "# regression line\n",
        "ypoints = np.array([134 + 5*i for i in range(7)])\n",
        "plt.plot(ypoints, linestyle = 'dotted');"
      ]
    },
    {
      "cell_type": "markdown",
      "metadata": {
        "id": "Te9fE2MSrEvU"
      },
      "source": [
        "### Scenario\n",
        "\n",
        "In this project, you will take on the role of the prover Peggy in a zero-knowledge proof system. Let's imagine that you are the only person in the world who has the iris dataset (e.g., you collected all the data yourself but haven't shared it with the world).\n",
        "\n",
        "Your task in this project is to *prove* that your data satisfies the linear regression $y = 134 + 5x$. You want to prove this property to the professor and teaching assistants, but you do not want to reveal the underlying dataset. We instructors will take on the role of the verifier Victor in the zero knowledge proof.\n",
        "\n",
        "The project contains three tasks: calculating the linear regression, creating a commitment to the data, and creating a proof of the correctness of the computation."
      ]
    },
    {
      "cell_type": "markdown",
      "metadata": {
        "id": "VheyW16zLp4m"
      },
      "source": [
        "## Task 1: Calculate linear regression (1 point)\n",
        "\n",
        "To begin this project, please calculate the single-variable linear regression for yourself (e.g., via the least-squares method). Remember to consider petal width as the independent variable and petal length as the dependent variable. Confirm for yourself that the best-fit line through all the data in `x_var` and `y_var` is $y = 134 + 5x$.\n",
        "\n",
        "This task involves no cryptography. Just refresh your memory of linear regression and check the math for yourself. You might find [Prof. Crovella's course notes](https://mcrovella.github.io/CS132-Geometric-Algorithms/L23LinearModels.html#a-least-squares-problem) handy to remember the underlying matrix and vector algebra required to calculate the coefficients of the regression line.\n",
        "\n",
        "__Your response:__"
      ]
    },
    {
      "cell_type": "code",
      "execution_count": 2,
      "metadata": {
        "id": "I0HX1kiMjL9x"
      },
      "outputs": [
        {
          "name": "stdout",
          "output_type": "stream",
          "text": [
            "calculated regression equation is: y = 134.0 + 5.00x\n"
          ]
        }
      ],
      "source": [
        "# calculate the sums\n",
        "n = len(x_var)\n",
        "sum_x = np.sum(x_var)\n",
        "sum_y = np.sum(y_var)\n",
        "sum_xy = np.sum(x_var * y_var)\n",
        "sum_x_squared = np.sum(x_var ** 2)\n",
        "\n",
        "# calculate the slope (m) and y-intercept (b)\n",
        "m = (n * sum_xy - sum_x * sum_y) / (n * sum_x_squared - sum_x ** 2)\n",
        "b = (sum_y - m * sum_x) / n\n",
        "\n",
        "print(f\"calculated regression equation is: y = {b:.1f} + {m:.2f}x\")"
      ]
    },
    {
      "cell_type": "markdown",
      "metadata": {
        "id": "b_HuvMYNt9PL"
      },
      "source": [
        "## Task 2: Create a commitment to the iris dataset (2 points)\n",
        "\n",
        "Next, create a cryptographic commitment to the iris data. Remember that a commitment is a digital equivalent to putting the data in an envelope: the verifier cannot see the data, and the prover cannot change it.\n",
        "\n",
        "One way to create a cryptographic commitment is to use a hash function modeled as a random oracle. The following construction is a valid commitment, where `m` is the message to be committed and `r` is a secret random string.\n",
        "\n",
        "$$\n",
        "\\begin{align*}\n",
        "\\operatorname{Commit}(m, r) &= H(m, r) \\\\\n",
        "\\operatorname{Open}(c, m, r) &= \\text{reveal } m \\text{ and } r \\\\\n",
        "\\end{align*}\n",
        "$$\n",
        "\n",
        "In this task, you must create a cryptographic commitment of the two columns of the iris dataset. You can use the code provided in Programming Assignment 9, Task 2 to help if you wish.\n",
        "\n",
        "__Your response:__"
      ]
    },
    {
      "cell_type": "code",
      "execution_count": 14,
      "metadata": {},
      "outputs": [
        {
          "name": "stdout",
          "output_type": "stream",
          "text": [
            "Message (petal length and petal width columns):\n",
            "[140.0, 150.0, 150.0, 160.0, 140.0, 110.00000000000001, 120.0, 150.0, 130.0, 140.0, 170.0, 150.0, 170.0, 150.0, 100.0, 170.0, 190.0, 160.0, 160.0, 150.0, 140.0, 160.0, 160.0, 150.0, 150.0, 140.0, 150.0, 120.0, 130.0, 140.0, 130.0, 150.0, 130.0, 130.0, 130.0, 160.0, 190.0, 140.0, 160.0, 140.0][2.0, 1.0, 2.0, 2.0, 1.0, 1.0, 2.0, 4.0, 4.0, 3.0, 3.0, 3.0, 2.0, 4.0, 2.0, 5.0, 2.0, 2.0, 4.0, 2.0, 2.0, 2.0, 2.0, 4.0, 1.0, 2.0, 2.0, 2.0, 2.0, 1.0, 2.0, 2.0, 3.0, 3.0, 2.0, 6.0, 4.0, 3.0, 2.0, 2.0]\n",
            "\n",
            "Random string:\n",
            "266d75d31261e12ecdf3c2f9db2139ec\n",
            "\n",
            "Commitment:\n",
            "decadb62304b67958d5935c6198f26bb87bcd6715ae88ea05e8274e1d80d24fa\n"
          ]
        }
      ],
      "source": [
        "# concatenate the two columns into a single message\n",
        "message = ''.join(str(y_var.tolist()) + str(x_var.tolist()))\n",
        "\n",
        "# generate a random string\n",
        "random_string = ''.join(np.random.choice(list('0123456789abcdef'), 32))\n",
        "\n",
        "# create the commitment\n",
        "commitment = hashlib.sha256(message.encode() + random_string.encode()).hexdigest()\n",
        "\n",
        "print(\"Message (petal length and petal width columns):\")\n",
        "print(message)\n",
        "\n",
        "print(\"\\nRandom string:\")\n",
        "print(random_string)\n",
        "\n",
        "print(\"\\nCommitment:\")\n",
        "print(commitment)"
      ]
    },
    {
      "cell_type": "markdown",
      "metadata": {},
      "source": [
        "We are using this commitment and secret random string:\n",
        "\n",
        "**Commitment: 7ec9b640d9e4be0db0f73e5358893377e8e7a1fa07a762c65c2a18ba5fb85be9**\n",
        "\n",
        "**Secret random string: 33eefb46573308d06c8a7b99d02aadcc**"
      ]
    },
    {
      "cell_type": "markdown",
      "metadata": {
        "id": "Ubu0vxcEu1n5"
      },
      "source": [
        "## Task 3: Construct a ZK proof (2 points)\n",
        "\n",
        "Finally, create a zero knowledge proof in the language `Circom` to prove to the instructors that the linear regression curve is $y = 134 + 5x$ for the iris dataset that you committed to in Task 2.\n",
        "\n",
        "In more detail: recall that a zero knowledge proof contains a public statement `x` and a private witness `w`. In this case:\n",
        "- The public statement contains the linear regression from Task 1 and the commitment from Task 2. The idea of this project is that you want to share that with the instructors. Additionally, let's pretend that the commitment was checked by an auditor, peer-reviewer, or regulator; this third party has confirmed and attested to the fact that your dataset is properly produced, and us instructors believe them even though we have not seen the data ourselves.\n",
        "- The private witness is the underlying iris data itself. Only you know that; we instructors haven't seen it.\n",
        "\n",
        "So: you must create a ZK proof in `Circom` to show two properties about your secret iris dataset: that it is the message inside of the cryptographic commitment, and that its linear regression is as claimed.\n",
        "\n",
        "__Update on 4/23:__ It is acceptable for your work in Task 3 only to show the second of these two properties -- namely, that you know secret datasets such that its linear regression is as claimed. In practice it would be important for the proof to demonstrate both properties, but I will award 1 out of 2 points in this task if you just show the linear regression part. (This can be enough to pass the project overall, if you also complete the other two tasks.)\n",
        "\n",
        "_Write your Circom code below. We should be able to take this code and execute it ourselves on https://zkrepl.dev/. Also, make sure that your code is properly documented so we can understand what you have done. You may find it helpful to use the [Circom documentation](https://docs.circom.io/) as you write the proof Additionally, see below for some code to perform matrix multiplication in Circom._\n",
        "\n",
        "As a hint: calculating the linear regression requires calculating the inverse of a matrix. I highly recommend that you do _not_ try to perform matrix inversion yourself in `Circom`! Instead, remember that the goal of ZK is to __verify__ a calculation rather than performing the calculation yourself. As written in Prof. Crovella's course notes, it suffices to show that the correct vector of coefficients \"$\\bf{\\beta}$ is a solution of the normal equations $X^\\top X \\bf{\\beta} = X^\\top \\bf{y}$.\"\n",
        "\n",
        "__Your response:__"
      ]
    },
    {
      "cell_type": "code",
      "execution_count": 15,
      "metadata": {
        "id": "yyTkn5_Mwn6_"
      },
      "outputs": [
        {
          "ename": "SyntaxError",
          "evalue": "invalid decimal literal (3657310382.py, line 58)",
          "output_type": "error",
          "traceback": [
            "\u001b[0;36m  Cell \u001b[0;32mIn[15], line 58\u001b[0;36m\u001b[0m\n\u001b[0;31m    // calculate X^T * X (a 2x2 matrix)\u001b[0m\n\u001b[0m                            ^\u001b[0m\n\u001b[0;31mSyntaxError\u001b[0m\u001b[0;31m:\u001b[0m invalid decimal literal\n"
          ]
        }
      ],
      "source": [
        "pragma circom 2.1.6;\n",
        "\n",
        "include \"../circomlib/circuits/bitify.circom\";\n",
        "include \"../circomlib/circuits/sha256/sha256.circom\";\n",
        "\n",
        "// define a template for proving the linear regression\n",
        "template LinearRegression(N) {\n",
        "    // declare input signals\n",
        "    signal input x_var[N];  // independent variable values (x)\n",
        "    signal input y_var[N];  // dependent variable values (y)\n",
        "    signal input commitment;  // commitment value computed in Task 2\n",
        "    signal input slope;  // slope coefficient of the linear regression line\n",
        "    signal input intercept;  // intercept coefficient of the linear regression line\n",
        "    signal input randomness;  // random string used to compute the commitment\n",
        "\n",
        "    // define constants\n",
        "    var TOLERANCE_FACTOR = 1000000;  // scale factor for tolerance\n",
        "    var TOLERANCE = 1;  // allow a small tolerance for error (1 / TOLERANCE_FACTOR)\n",
        "\n",
        "    // create a SHA256 hash component\n",
        "    component commitmentHasher = Sha256(N*128 + 160);\n",
        "\n",
        "    // convert x_var and y_var to bits and hash them\n",
        "    component x_bits[N];\n",
        "    component y_bits[N];\n",
        "    for (var i = 0; i < N; i++) {\n",
        "        x_bits[i] = Num2Bits(64);\n",
        "        x_bits[i].in <-- x_var[i];\n",
        "        for (var j = 0; j < 64; j++) {\n",
        "            commitmentHasher.in[i*64 + j] <-- x_bits[i].out[j];\n",
        "        }\n",
        "\n",
        "        y_bits[i] = Num2Bits(64);\n",
        "        y_bits[i].in <-- y_var[i];\n",
        "        for (var j = 0; j < 64; j++) {\n",
        "            commitmentHasher.in[N*64 + i*64 + j] <-- y_bits[i].out[j];\n",
        "        }\n",
        "    }\n",
        "\n",
        "    // convert randomness to bits and hash it\n",
        "    component r_bits = Num2Bits(160);\n",
        "    r_bits.in <-- randomness;\n",
        "    for (var i = 0; i < 160; i++) {\n",
        "        commitmentHasher.in[N*128 + i] <-- r_bits.out[i];\n",
        "    }\n",
        "\n",
        "    // check that the computed hash matches the provided commitment\n",
        "    component commit_bits = Bits2Num(256);\n",
        "    for (var i = 0; i < 256; i++) {\n",
        "        commit_bits.in[i] <-- commitmentHasher.out[i];\n",
        "    }\n",
        "    commit_bits.out === commitment;\n",
        "\n",
        "    // verify the normal equations: X^T * X * beta = X^T * y\n",
        "    // where X is the design matrix, beta is the vector of coefficients,\n",
        "    // and y is the vector of dependent variable values\n",
        "\n",
        "    // calculate X^T * X (a 2x2 matrix)\n",
        "    var sumX = 0;\n",
        "    var sumXX = 0;\n",
        "    for (var i = 0; i < N; i++) {\n",
        "        sumX += x_var[i];\n",
        "        sumXX += x_var[i] * x_var[i];\n",
        "    }\n",
        "\n",
        "    // calculate X^T * y (a vector of length 2)\n",
        "    var sumY = 0;\n",
        "    var sumXY = 0;\n",
        "    for (var i = 0; i < N; i++) {\n",
        "        sumY += y_var[i];\n",
        "        sumXY += x_var[i] * y_var[i];\n",
        "    }\n",
        "\n",
        "    // calculate X^T * X * beta\n",
        "    var xtxBeta1 = sumXX * slope + sumX * intercept;\n",
        "    var xtxBeta0 = sumX * slope + N * intercept;\n",
        "\n",
        "    // check that X^T * X * beta = X^T * y (within tolerance)\n",
        "    assert(TOLERANCE_FACTOR * (xtxBeta1 - sumXY) <= TOLERANCE && TOLERANCE_FACTOR * (xtxBeta1 - sumXY) >= -TOLERANCE);\n",
        "    assert(TOLERANCE_FACTOR * (xtxBeta0 - sumY) <= TOLERANCE && TOLERANCE_FACTOR * (xtxBeta0 - sumY) >= -TOLERANCE);\n",
        "}\n",
        "\n",
        "// define the main component and set its public inputs\n",
        "component main { public [commitment, slope, intercept] } = LinearRegression(40);\n",
        "\n",
        "/* INPUT = {\n",
        "    \"x_var\": [2, 1, 2, 2, 1, 1, 2, 4, 4, 3, 3, 3, 2, 4, 2, 5, 2, 2, 4, 2, 2, 2, 2, 4, 1, 2, 2, 2, 2, 1, 2, 2, 3, 3, 2, 6, 4, 3, 2, 2],\n",
        "    \"y_var\": [140, 150, 150, 160, 140, 110, 120, 150, 130, 140, 170, 150, 170, 150, 100, 170, 190, 160, 160, 150, 140, 160, 160, 150, 150, 140, 150, 120, 130, 140, 130, 150, 130, 130, 130, 160, 190, 140, 160, 140],\n",
        "    \"commitment\": \"7ec9b640d9e4be0db0f73e5358893377e8e7a1fa07a762c65c2a18ba5fb85be9\",\n",
        "    \"slope\": 5,\n",
        "    \"intercept\": 134,\n",
        "    \"randomness\": \"33eefb46573308d06c8a7b99d02aadcc\"\n",
        "} */"
      ]
    },
    {
      "cell_type": "markdown",
      "metadata": {
        "id": "uyTRLw9qZ9K2"
      },
      "source": [
        "## Documenting collaborators, sources, and AI tools\n",
        "\n",
        "In accordance with the collaboration policy, use the space below to report if you used any resources to complete this homework assignment, aside from the lecture notes and the course textbooks/videos. Specifically, please report:\n",
        "\n",
        "1. Names of all classmates you worked with, and a short description of the work that you performed together.\n",
        "2. All written materials that you used, such as books or websites (besides the lecture notes or textbooks). Please include links to any web-based resources, or citations to any physical works.\n",
        "3. All code that you used from other sources. In particular, if you used an AI tool, then you must include the entire exchange with the AI tool, as per the [CDS Generative AI Assistance Policy](https://www.bu.edu/cds-faculty/culture-community/gaia-policy/).\n",
        "\n",
        "Remember that if we discover any undocumented collaborators, sources, or AI tools then this is grounds for a Not Passed grade on the project without the ability to resubmit, and possible referral to BU's Academic Conduct Committee (as described in the syllabus). It is in your own interest to document all collaborators, sources, and tools used!"
      ]
    },
    {
      "cell_type": "markdown",
      "metadata": {
        "id": "r8_ybBypaBeV"
      },
      "source": [
        "__Your response:__\n",
        "\n",
        "1. N/A\n",
        "\n",
        "2. \n",
        "   \n",
        "- Circom documentation: https://docs.circom.io/: This is the official documentation for the Circom language, which provided valuable information about writing Circom circuits and constraints.\n",
        "- \"Linear Regression\" lecture notes by Prof. Mark Crovella: https://mcrovella.github.io/CS132-Geometric-Algorithms/L23LinearModels.html: These lecture notes helped me review the matrix and vector algebra required for calculating the coefficients of a linear regression line.\n",
        "- GitHub repository by drgorillamd: https://github.com/drgorillamd/circom-halo2/blob/main/matrixProduct/circom/matrixProduct.circom: This repository provided sample Circom code for checking matrix multiplication, which I adapted and used as a starting point for my proof.\n",
        "- \"Zero-Knowledge Proofs: An Illustrated Primer\" by Matthew Green: https://blog.cryptographyengineering.com/2014/11/27/zero-knowledge-proofs-illustrated-primer/: This blog post provided a clear explanation of the concepts behind zero-knowledge proofs, which helped me understand the problem statement better.\n",
        "- \"Commitment Schemes\" chapter from \"Introduction to Modern Cryptography\" by Jonathan Katz and Yehuda Lindell.\n",
        "- \"Linear Regression\" chapter from \"An Introduction to Statistical Learning\" by Gareth James, Daniela Witten, Trevor Hastie, and Robert Tibshirani.\n",
        "\n",
        "Some inspirational papars:\n",
        "\n",
        "- \"The Knowledge Complexity of Interactive Proof Systems\" by Shafi Goldwasser, Silvio Micali, and Charles Rackoff, which is a seminal research paper that introduced the concept of zero-knowledge proofs, offering a foundational understanding of the topic.\n",
        "- \"Zero Knowledge Proofs: An Illustrated Primer, Part 2\" by Matthew Green: https://blog.cryptographyengineering.com/2017/01/21/zero-knowledge-proofs-an-illustrated-primer-part-2/. This is a follow-up blog post to the one I mentioned earlier, which could have provided additional context or examples related to zero-knowledge proofs.\n",
        "\n",
        "3. N/A"
      ]
    },
    {
      "cell_type": "markdown",
      "metadata": {
        "id": "uEO5Va4yaGWF"
      },
      "source": [
        "When you have completed the project, please submit this .ipynb file to Gradescope."
      ]
    },
    {
      "cell_type": "markdown",
      "metadata": {
        "id": "eTj9NHsBpw9t"
      },
      "source": [
        "## Appendix: Example of matrix multiplication in Circom\n",
        "\n",
        "In Task 3, you will need to write Circom code to check for the correct outcome for a matrix product. I reproduce below some Circom code from [GitHub user drgorillamd](https://github.com/drgorillamd/circom-halo2/blob/main/matrixProduct/circom/matrixProduct.circom) that can check whether the prover knows two secret matrices $A$ and $B$ that can multiply to produce a public matrix $C$. You can run this code for yourself at https://zkrepl.dev and confirm that it works.\n",
        "\n",
        "Note that this code is *not* exactly what you will need for Task 3; in particular, in this project all matrices are meant to be secret except for the regression coefficients 134 and 5. Still though, you might find this code to be a useful starting point that you can adapt to fit the project."
      ]
    },
    {
      "cell_type": "code",
      "execution_count": 8,
      "metadata": {
        "id": "MoREqwx_p3dJ"
      },
      "outputs": [
        {
          "ename": "SyntaxError",
          "evalue": "closing parenthesis ')' does not match opening parenthesis '{' (2478974270.py, line 81)",
          "output_type": "error",
          "traceback": [
            "\u001b[0;36m  Cell \u001b[0;32mIn[8], line 81\u001b[0;36m\u001b[0m\n\u001b[0;31m    *(INPUT, =, {)\u001b[0m\n\u001b[0m                 ^\u001b[0m\n\u001b[0;31mSyntaxError\u001b[0m\u001b[0;31m:\u001b[0m closing parenthesis ')' does not match opening parenthesis '{'\n"
          ]
        }
      ],
      "source": [
        "pragma circom 2.1.5;\n",
        "\n",
        "include \"../../node_modules/circomlib/circuits/comparators.circom\";\n",
        "\n",
        "// takes 2 private signals in (a and b) and a public one (c).\n",
        "// checks if the matrix a[M][N] . b[N][P] == c[M][P]\n",
        "// this is pretty useless as anyone can find A and B satisfying this, but it\n",
        "// was funny to code tho.\n",
        "// https://www.reddit.com/r/cryptography/s/kGMmhprA8N\n",
        "template CheckMatrixProduct(M,N,P) {\n",
        "    // A . B = C with dim(A) = MxN, dim(B)=NxP and dim(C)=NxN\n",
        "    signal input a[M][N]; // private\n",
        "    signal input b[N][P]; // private\n",
        "    signal input c[M][P]; // public\n",
        "\n",
        "    // compiler check: valid matrices (NOT a constrain)\n",
        "    assert(M * N * P != 0);\n",
        "\n",
        "    // 1 if the dot product a[x][i] . b[i][y] == c[x][y]\n",
        "    component isDotProd[M][P];\n",
        "\n",
        "    // for row in c\n",
        "    for(var i = 0; i < M; i++) {\n",
        "        // for col in c\n",
        "        for(var j = 0; j < P; j++) {\n",
        "\n",
        "            isDotProd[i][j] = IsDotProductEq(N);\n",
        "\n",
        "            // Circom 2.1: pass a whole vector and this is so cool\n",
        "            isDotProd[i][j].a <== a[i];\n",
        "\n",
        "            // transposed\n",
        "            for(var k = 0; k < N; k++) {\n",
        "                isDotProd[i][j].b[k] <== b[k][j];\n",
        "            }\n",
        "\n",
        "            // the result in c\n",
        "            isDotProd[i][j].dot_product <== c[i][j];\n",
        "\n",
        "            isDotProd[i][j].isEqual === 1;\n",
        "        }\n",
        "    }\n",
        "}\n",
        "\n",
        "// Returns 1 if the dot product between 2 vectors a[N] and b[N] == dot_product\n",
        "template IsDotProductEq(N) {\n",
        "    signal input a[N];\n",
        "    signal input b[N];\n",
        "    signal input dot_product;\n",
        "\n",
        "    signal output isEqual;\n",
        "\n",
        "    // working vectors:\n",
        "    // product of each value in a and b\n",
        "    signal products[N];\n",
        "\n",
        "    // cumulative sums of the products\n",
        "    signal cum_sum[N];\n",
        "\n",
        "    component isEq = IsEqual();\n",
        "\n",
        "    // hold the first (rest iterate on i-1, avoid falling out of bound)\n",
        "    products[0] <== a[0] * b[0];\n",
        "    cum_sum[0] <== products[0];\n",
        "\n",
        "    // compute a[i] * b[i] then add it to the cumulative sum\n",
        "    for(var i = 1; i < N; i++) {\n",
        "        products[i] <== a[i] * b[i];\n",
        "        cum_sum[i] <== cum_sum[i - 1] + products[i];\n",
        "    }\n",
        "\n",
        "    // the last value of cum_sum now holds the dot product, just check for eq and return it\n",
        "    isEq.in[0] <== dot_product;\n",
        "    isEq.in[1] <== cum_sum[N - 1];\n",
        "    isEqual <== isEq.out;\n",
        "}\n",
        "\n",
        "// Checks the matrix product, where c is a public matrix and a, b are hidden matrices\n",
        "component main { public [ c ] } = CheckMatrixProduct(2, 3, 2);\n",
        "\n",
        "/* INPUT = {\n",
        "    \"a\": [[\"1\", \"2\", \"3\"],\n",
        "          [\"4\", \"5\", \"6\"]],\n",
        "    \"b\": [[\"1\", \"2\"],\n",
        "          [\"6\", \"7\"],\n",
        "          [\"11\", \"12\"]],\n",
        "    \"c\": [[\"46\", \"52\"],\n",
        "          [\"100\", \"115\"]]\n",
        "} */"
      ]
    }
  ],
  "metadata": {
    "colab": {
      "provenance": []
    },
    "kernelspec": {
      "display_name": "Python 3",
      "name": "python3"
    },
    "language_info": {
      "codemirror_mode": {
        "name": "ipython",
        "version": 3
      },
      "file_extension": ".py",
      "mimetype": "text/x-python",
      "name": "python",
      "nbconvert_exporter": "python",
      "pygments_lexer": "ipython3",
      "version": "3.11.5"
    }
  },
  "nbformat": 4,
  "nbformat_minor": 0
}
